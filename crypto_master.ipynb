{
 "cells": [
  {
   "cell_type": "code",
   "execution_count": 15,
   "id": "4a679303-799d-43fa-8988-90cc0059e7ac",
   "metadata": {},
   "outputs": [],
   "source": [
    "# Initial imports\n",
    "import pandas as pd\n",
    "import numpy as np\n",
    "import datetime as dt\n",
    "from pathlib import Path\n",
    "import seaborn as sns\n",
    "import datetime as dt\n",
    "\n",
    "%matplotlib inline"
   ]
  },
  {
   "cell_type": "markdown",
   "id": "3167b21f-d3c0-46ad-b56f-0842247b07e8",
   "metadata": {},
   "source": [
    "# Crypto Selection\n",
    "- According to market cap data from yahoo finance \n",
    "- Exclude cryptos closely linked to USD, e.g. USDT, USDC etc.\n",
    "- Top 6 Cryptos which have the largest market cap"
   ]
  },
  {
   "cell_type": "markdown",
   "id": "2ee2fc17-e3e1-434d-9506-6c41399517a2",
   "metadata": {},
   "source": [
    "# Reading the CSV files into DataFrames and perform any necessary data cleaning steps. After cleaning, combine all DataFrames into a single DataFrame.\n",
    "\n",
    "Files (Data from Google Finance and time range from 3-1-2009 to 26-10-2022):\n",
    "* BTC  \n",
    "* ETH  \n",
    "* BNB \n",
    "* XRP \n",
    "* ADA \n",
    "* SOL "
   ]
  },
  {
   "cell_type": "code",
   "execution_count": 33,
   "id": "b34bc154-042e-428f-a1ac-af45edd62412",
   "metadata": {},
   "outputs": [
    {
     "data": {
      "text/html": [
       "<div>\n",
       "<style scoped>\n",
       "    .dataframe tbody tr th:only-of-type {\n",
       "        vertical-align: middle;\n",
       "    }\n",
       "\n",
       "    .dataframe tbody tr th {\n",
       "        vertical-align: top;\n",
       "    }\n",
       "\n",
       "    .dataframe thead th {\n",
       "        text-align: right;\n",
       "    }\n",
       "</style>\n",
       "<table border=\"1\" class=\"dataframe\">\n",
       "  <thead>\n",
       "    <tr style=\"text-align: right;\">\n",
       "      <th></th>\n",
       "      <th>Close</th>\n",
       "    </tr>\n",
       "  </thead>\n",
       "  <tbody>\n",
       "    <tr>\n",
       "      <th>2015-05-21</th>\n",
       "      <td>0.06</td>\n",
       "    </tr>\n",
       "    <tr>\n",
       "      <th>2015-05-22</th>\n",
       "      <td>0.06</td>\n",
       "    </tr>\n",
       "    <tr>\n",
       "      <th>2015-05-25</th>\n",
       "      <td>0.06</td>\n",
       "    </tr>\n",
       "    <tr>\n",
       "      <th>2015-06-02</th>\n",
       "      <td>0.06</td>\n",
       "    </tr>\n",
       "    <tr>\n",
       "      <th>2015-06-23</th>\n",
       "      <td>0.12</td>\n",
       "    </tr>\n",
       "    <tr>\n",
       "      <th>...</th>\n",
       "      <td>...</td>\n",
       "    </tr>\n",
       "    <tr>\n",
       "      <th>2022-10-19</th>\n",
       "      <td>0.06</td>\n",
       "    </tr>\n",
       "    <tr>\n",
       "      <th>2022-10-20</th>\n",
       "      <td>0.06</td>\n",
       "    </tr>\n",
       "    <tr>\n",
       "      <th>2022-10-21</th>\n",
       "      <td>0.05</td>\n",
       "    </tr>\n",
       "    <tr>\n",
       "      <th>2022-10-24</th>\n",
       "      <td>0.06</td>\n",
       "    </tr>\n",
       "    <tr>\n",
       "      <th>2022-10-25</th>\n",
       "      <td>0.05</td>\n",
       "    </tr>\n",
       "  </tbody>\n",
       "</table>\n",
       "<p>1358 rows × 1 columns</p>\n",
       "</div>"
      ],
      "text/plain": [
       "            Close\n",
       "2015-05-21   0.06\n",
       "2015-05-22   0.06\n",
       "2015-05-25   0.06\n",
       "2015-06-02   0.06\n",
       "2015-06-23   0.12\n",
       "...           ...\n",
       "2022-10-19   0.06\n",
       "2022-10-20   0.06\n",
       "2022-10-21   0.05\n",
       "2022-10-24   0.06\n",
       "2022-10-25   0.05\n",
       "\n",
       "[1358 rows x 1 columns]"
      ]
     },
     "execution_count": 33,
     "metadata": {},
     "output_type": "execute_result"
    }
   ],
   "source": [
    "btc_path = Path(\"./Resources/BTC.csv\")\n",
    "\n",
    "btc_data = pd.read_csv(btc_path, index_col = 'Date', parse_dates = True,infer_datetime_format = True)\n",
    "\n",
    "btc_data.index = btc_data.index.date\n",
    "\n",
    "btc_data\n"
   ]
  },
  {
   "cell_type": "code",
   "execution_count": 6,
   "id": "e12f69ae-1f4b-4f9e-a4ea-f35bd8243fdb",
   "metadata": {},
   "outputs": [
    {
     "data": {
      "text/plain": [
       "Close    0\n",
       "dtype: int64"
      ]
     },
     "execution_count": 6,
     "metadata": {},
     "output_type": "execute_result"
    }
   ],
   "source": [
    "# Count nulls\n",
    "btc_data.isnull().sum()"
   ]
  },
  {
   "cell_type": "code",
   "execution_count": 34,
   "id": "d7b19c38-02bb-4248-85b3-9283080d41c1",
   "metadata": {},
   "outputs": [
    {
     "data": {
      "text/html": [
       "<div>\n",
       "<style scoped>\n",
       "    .dataframe tbody tr th:only-of-type {\n",
       "        vertical-align: middle;\n",
       "    }\n",
       "\n",
       "    .dataframe tbody tr th {\n",
       "        vertical-align: top;\n",
       "    }\n",
       "\n",
       "    .dataframe thead th {\n",
       "        text-align: right;\n",
       "    }\n",
       "</style>\n",
       "<table border=\"1\" class=\"dataframe\">\n",
       "  <thead>\n",
       "    <tr style=\"text-align: right;\">\n",
       "      <th></th>\n",
       "      <th>Close</th>\n",
       "    </tr>\n",
       "  </thead>\n",
       "  <tbody>\n",
       "    <tr>\n",
       "      <th>2015-05-21</th>\n",
       "      <td>NaN</td>\n",
       "    </tr>\n",
       "    <tr>\n",
       "      <th>2015-05-22</th>\n",
       "      <td>0.000000</td>\n",
       "    </tr>\n",
       "    <tr>\n",
       "      <th>2015-05-25</th>\n",
       "      <td>0.000000</td>\n",
       "    </tr>\n",
       "    <tr>\n",
       "      <th>2015-06-02</th>\n",
       "      <td>0.000000</td>\n",
       "    </tr>\n",
       "    <tr>\n",
       "      <th>2015-06-23</th>\n",
       "      <td>1.000000</td>\n",
       "    </tr>\n",
       "    <tr>\n",
       "      <th>...</th>\n",
       "      <td>...</td>\n",
       "    </tr>\n",
       "    <tr>\n",
       "      <th>2022-10-19</th>\n",
       "      <td>0.000000</td>\n",
       "    </tr>\n",
       "    <tr>\n",
       "      <th>2022-10-20</th>\n",
       "      <td>0.000000</td>\n",
       "    </tr>\n",
       "    <tr>\n",
       "      <th>2022-10-21</th>\n",
       "      <td>-0.166667</td>\n",
       "    </tr>\n",
       "    <tr>\n",
       "      <th>2022-10-24</th>\n",
       "      <td>0.200000</td>\n",
       "    </tr>\n",
       "    <tr>\n",
       "      <th>2022-10-25</th>\n",
       "      <td>-0.166667</td>\n",
       "    </tr>\n",
       "  </tbody>\n",
       "</table>\n",
       "<p>1358 rows × 1 columns</p>\n",
       "</div>"
      ],
      "text/plain": [
       "               Close\n",
       "2015-05-21       NaN\n",
       "2015-05-22  0.000000\n",
       "2015-05-25  0.000000\n",
       "2015-06-02  0.000000\n",
       "2015-06-23  1.000000\n",
       "...              ...\n",
       "2022-10-19  0.000000\n",
       "2022-10-20  0.000000\n",
       "2022-10-21 -0.166667\n",
       "2022-10-24  0.200000\n",
       "2022-10-25 -0.166667\n",
       "\n",
       "[1358 rows x 1 columns]"
      ]
     },
     "execution_count": 34,
     "metadata": {},
     "output_type": "execute_result"
    }
   ],
   "source": [
    "# Calculate Daily Returns\n",
    "btc_daily_return = btc_data.pct_change()\n",
    "\n",
    "btc_daily_return"
   ]
  },
  {
   "cell_type": "code",
   "execution_count": 36,
   "id": "e17456a4-792e-416f-8fa2-a2ec774fb05f",
   "metadata": {},
   "outputs": [
    {
     "data": {
      "text/html": [
       "<div>\n",
       "<style scoped>\n",
       "    .dataframe tbody tr th:only-of-type {\n",
       "        vertical-align: middle;\n",
       "    }\n",
       "\n",
       "    .dataframe tbody tr th {\n",
       "        vertical-align: top;\n",
       "    }\n",
       "\n",
       "    .dataframe thead th {\n",
       "        text-align: right;\n",
       "    }\n",
       "</style>\n",
       "<table border=\"1\" class=\"dataframe\">\n",
       "  <thead>\n",
       "    <tr style=\"text-align: right;\">\n",
       "      <th></th>\n",
       "      <th>Close</th>\n",
       "    </tr>\n",
       "  </thead>\n",
       "  <tbody>\n",
       "    <tr>\n",
       "      <th>2009-05-01</th>\n",
       "      <td>2401.16</td>\n",
       "    </tr>\n",
       "    <tr>\n",
       "      <th>2009-06-01</th>\n",
       "      <td>2435.00</td>\n",
       "    </tr>\n",
       "    <tr>\n",
       "      <th>2009-07-01</th>\n",
       "      <td>2412.06</td>\n",
       "    </tr>\n",
       "    <tr>\n",
       "      <th>2009-08-01</th>\n",
       "      <td>2419.94</td>\n",
       "    </tr>\n",
       "    <tr>\n",
       "      <th>2009-09-01</th>\n",
       "      <td>2400.00</td>\n",
       "    </tr>\n",
       "    <tr>\n",
       "      <th>...</th>\n",
       "      <td>...</td>\n",
       "    </tr>\n",
       "    <tr>\n",
       "      <th>2022-10-19</th>\n",
       "      <td>762.00</td>\n",
       "    </tr>\n",
       "    <tr>\n",
       "      <th>2022-10-20</th>\n",
       "      <td>720.00</td>\n",
       "    </tr>\n",
       "    <tr>\n",
       "      <th>2022-10-21</th>\n",
       "      <td>750.00</td>\n",
       "    </tr>\n",
       "    <tr>\n",
       "      <th>2022-10-24</th>\n",
       "      <td>762.00</td>\n",
       "    </tr>\n",
       "    <tr>\n",
       "      <th>2022-10-25</th>\n",
       "      <td>790.00</td>\n",
       "    </tr>\n",
       "  </tbody>\n",
       "</table>\n",
       "<p>3533 rows × 1 columns</p>\n",
       "</div>"
      ],
      "text/plain": [
       "              Close\n",
       "2009-05-01  2401.16\n",
       "2009-06-01  2435.00\n",
       "2009-07-01  2412.06\n",
       "2009-08-01  2419.94\n",
       "2009-09-01  2400.00\n",
       "...             ...\n",
       "2022-10-19   762.00\n",
       "2022-10-20   720.00\n",
       "2022-10-21   750.00\n",
       "2022-10-24   762.00\n",
       "2022-10-25   790.00\n",
       "\n",
       "[3533 rows x 1 columns]"
      ]
     },
     "execution_count": 36,
     "metadata": {},
     "output_type": "execute_result"
    }
   ],
   "source": [
    "bnb_path = Path(\"./Resources/BNB.csv\")\n",
    "\n",
    "bnb_data = pd.read_csv(bnb_path, index_col = 'Date', parse_dates = True,infer_datetime_format = True)\n",
    "\n",
    "bnb_data.index = bnb_data.index.date\n",
    "\n",
    "bnb_data"
   ]
  },
  {
   "cell_type": "code",
   "execution_count": 37,
   "id": "440a023f-be96-40a1-9083-2d6b622384ce",
   "metadata": {},
   "outputs": [
    {
     "data": {
      "text/plain": [
       "Close    0\n",
       "dtype: int64"
      ]
     },
     "execution_count": 37,
     "metadata": {},
     "output_type": "execute_result"
    }
   ],
   "source": [
    "# Count nulls\n",
    "bnb_data.isnull().sum()"
   ]
  },
  {
   "cell_type": "code",
   "execution_count": 38,
   "id": "a78b04ba-5fcc-4dd9-ac67-b6d3bef4d980",
   "metadata": {},
   "outputs": [
    {
     "data": {
      "text/html": [
       "<div>\n",
       "<style scoped>\n",
       "    .dataframe tbody tr th:only-of-type {\n",
       "        vertical-align: middle;\n",
       "    }\n",
       "\n",
       "    .dataframe tbody tr th {\n",
       "        vertical-align: top;\n",
       "    }\n",
       "\n",
       "    .dataframe thead th {\n",
       "        text-align: right;\n",
       "    }\n",
       "</style>\n",
       "<table border=\"1\" class=\"dataframe\">\n",
       "  <thead>\n",
       "    <tr style=\"text-align: right;\">\n",
       "      <th></th>\n",
       "      <th>Close</th>\n",
       "    </tr>\n",
       "  </thead>\n",
       "  <tbody>\n",
       "    <tr>\n",
       "      <th>2009-05-01</th>\n",
       "      <td>NaN</td>\n",
       "    </tr>\n",
       "    <tr>\n",
       "      <th>2009-06-01</th>\n",
       "      <td>0.014093</td>\n",
       "    </tr>\n",
       "    <tr>\n",
       "      <th>2009-07-01</th>\n",
       "      <td>-0.009421</td>\n",
       "    </tr>\n",
       "    <tr>\n",
       "      <th>2009-08-01</th>\n",
       "      <td>0.003267</td>\n",
       "    </tr>\n",
       "    <tr>\n",
       "      <th>2009-09-01</th>\n",
       "      <td>-0.008240</td>\n",
       "    </tr>\n",
       "    <tr>\n",
       "      <th>...</th>\n",
       "      <td>...</td>\n",
       "    </tr>\n",
       "    <tr>\n",
       "      <th>2022-10-19</th>\n",
       "      <td>-0.047500</td>\n",
       "    </tr>\n",
       "    <tr>\n",
       "      <th>2022-10-20</th>\n",
       "      <td>-0.055118</td>\n",
       "    </tr>\n",
       "    <tr>\n",
       "      <th>2022-10-21</th>\n",
       "      <td>0.041667</td>\n",
       "    </tr>\n",
       "    <tr>\n",
       "      <th>2022-10-24</th>\n",
       "      <td>0.016000</td>\n",
       "    </tr>\n",
       "    <tr>\n",
       "      <th>2022-10-25</th>\n",
       "      <td>0.036745</td>\n",
       "    </tr>\n",
       "  </tbody>\n",
       "</table>\n",
       "<p>3533 rows × 1 columns</p>\n",
       "</div>"
      ],
      "text/plain": [
       "               Close\n",
       "2009-05-01       NaN\n",
       "2009-06-01  0.014093\n",
       "2009-07-01 -0.009421\n",
       "2009-08-01  0.003267\n",
       "2009-09-01 -0.008240\n",
       "...              ...\n",
       "2022-10-19 -0.047500\n",
       "2022-10-20 -0.055118\n",
       "2022-10-21  0.041667\n",
       "2022-10-24  0.016000\n",
       "2022-10-25  0.036745\n",
       "\n",
       "[3533 rows x 1 columns]"
      ]
     },
     "execution_count": 38,
     "metadata": {},
     "output_type": "execute_result"
    }
   ],
   "source": [
    "# Calculate Daily Returns\n",
    "bnb_daily_return = bnb_data.pct_change()\n",
    "\n",
    "bnb_daily_return"
   ]
  },
  {
   "cell_type": "code",
   "execution_count": 41,
   "id": "87f4a41a-fcff-44d3-bd79-d9ab059a2b9c",
   "metadata": {},
   "outputs": [
    {
     "data": {
      "text/html": [
       "<div>\n",
       "<style scoped>\n",
       "    .dataframe tbody tr th:only-of-type {\n",
       "        vertical-align: middle;\n",
       "    }\n",
       "\n",
       "    .dataframe tbody tr th {\n",
       "        vertical-align: top;\n",
       "    }\n",
       "\n",
       "    .dataframe thead th {\n",
       "        text-align: right;\n",
       "    }\n",
       "</style>\n",
       "<table border=\"1\" class=\"dataframe\">\n",
       "  <thead>\n",
       "    <tr style=\"text-align: right;\">\n",
       "      <th></th>\n",
       "      <th>Close</th>\n",
       "      <th>Close</th>\n",
       "    </tr>\n",
       "  </thead>\n",
       "  <tbody>\n",
       "    <tr>\n",
       "      <th>2015-05-22</th>\n",
       "      <td>0.000000</td>\n",
       "      <td>-0.002454</td>\n",
       "    </tr>\n",
       "    <tr>\n",
       "      <th>2015-05-25</th>\n",
       "      <td>0.000000</td>\n",
       "      <td>-0.000615</td>\n",
       "    </tr>\n",
       "    <tr>\n",
       "      <th>2015-06-02</th>\n",
       "      <td>0.000000</td>\n",
       "      <td>-0.005362</td>\n",
       "    </tr>\n",
       "    <tr>\n",
       "      <th>2015-06-23</th>\n",
       "      <td>1.000000</td>\n",
       "      <td>0.019608</td>\n",
       "    </tr>\n",
       "    <tr>\n",
       "      <th>2015-07-16</th>\n",
       "      <td>1.000000</td>\n",
       "      <td>0.013877</td>\n",
       "    </tr>\n",
       "    <tr>\n",
       "      <th>...</th>\n",
       "      <td>...</td>\n",
       "      <td>...</td>\n",
       "    </tr>\n",
       "    <tr>\n",
       "      <th>2022-10-19</th>\n",
       "      <td>0.000000</td>\n",
       "      <td>-0.047500</td>\n",
       "    </tr>\n",
       "    <tr>\n",
       "      <th>2022-10-20</th>\n",
       "      <td>0.000000</td>\n",
       "      <td>-0.055118</td>\n",
       "    </tr>\n",
       "    <tr>\n",
       "      <th>2022-10-21</th>\n",
       "      <td>-0.166667</td>\n",
       "      <td>0.041667</td>\n",
       "    </tr>\n",
       "    <tr>\n",
       "      <th>2022-10-24</th>\n",
       "      <td>0.200000</td>\n",
       "      <td>0.016000</td>\n",
       "    </tr>\n",
       "    <tr>\n",
       "      <th>2022-10-25</th>\n",
       "      <td>-0.166667</td>\n",
       "      <td>0.036745</td>\n",
       "    </tr>\n",
       "  </tbody>\n",
       "</table>\n",
       "<p>1191 rows × 2 columns</p>\n",
       "</div>"
      ],
      "text/plain": [
       "               Close     Close\n",
       "2015-05-22  0.000000 -0.002454\n",
       "2015-05-25  0.000000 -0.000615\n",
       "2015-06-02  0.000000 -0.005362\n",
       "2015-06-23  1.000000  0.019608\n",
       "2015-07-16  1.000000  0.013877\n",
       "...              ...       ...\n",
       "2022-10-19  0.000000 -0.047500\n",
       "2022-10-20  0.000000 -0.055118\n",
       "2022-10-21 -0.166667  0.041667\n",
       "2022-10-24  0.200000  0.016000\n",
       "2022-10-25 -0.166667  0.036745\n",
       "\n",
       "[1191 rows x 2 columns]"
      ]
     },
     "execution_count": 41,
     "metadata": {},
     "output_type": "execute_result"
    }
   ],
   "source": [
    "# Join All Returns into a single DataFrame with columns \n",
    "# for each portfolio's returns.\n",
    "\n",
    "combined = pd.concat([btc_daily_return,bnb_daily_return],axis='columns',join = 'inner')\n",
    "\n",
    "combined.dropna(inplace=True)\n",
    "combined"
   ]
  },
  {
   "cell_type": "code",
   "execution_count": null,
   "id": "9e31d900-3754-4825-a49e-a1ee565450da",
   "metadata": {},
   "outputs": [],
   "source": [
    "# plot the daily return of the 6 cryptos"
   ]
  },
  {
   "cell_type": "code",
   "execution_count": null,
   "id": "1d8a633d-4e7d-465d-ba22-52606791eae4",
   "metadata": {},
   "outputs": [],
   "source": [
    "# plot the cumulative return of the 6 cryptos"
   ]
  },
  {
   "cell_type": "code",
   "execution_count": null,
   "id": "f6a0251f-8277-4011-95ee-a9ee20bbd8fb",
   "metadata": {},
   "outputs": [],
   "source": [
    "# plot the moving average"
   ]
  },
  {
   "cell_type": "code",
   "execution_count": null,
   "id": "61302b41-90a4-4609-9353-31ca2afa7d49",
   "metadata": {},
   "outputs": [],
   "source": [
    "# plot the volatilities of the 6 cryptos"
   ]
  },
  {
   "cell_type": "code",
   "execution_count": null,
   "id": "6dfe91e0-0f47-4040-a706-45e5b4b6be23",
   "metadata": {},
   "outputs": [],
   "source": [
    "# plot the Sharpe Ratio of the 6 cryptos"
   ]
  },
  {
   "cell_type": "code",
   "execution_count": null,
   "id": "cc061d6c-dc2b-41a9-8e50-a378a92287c2",
   "metadata": {},
   "outputs": [],
   "source": [
    "# plot the std of the 6 cryptos"
   ]
  },
  {
   "cell_type": "code",
   "execution_count": null,
   "id": "63759a0b-b838-4cb2-80ca-66611fba63b2",
   "metadata": {},
   "outputs": [],
   "source": [
    "# plot the rolling std (30 days, 60 days) of the 6 cryptos"
   ]
  },
  {
   "cell_type": "code",
   "execution_count": null,
   "id": "43796c55-9a6b-43ea-ae83-679fae8fb143",
   "metadata": {},
   "outputs": [],
   "source": [
    "# plot the heatmap"
   ]
  },
  {
   "cell_type": "code",
   "execution_count": null,
   "id": "ebd29ee2-b1e9-4082-94ee-b4f774e432e5",
   "metadata": {},
   "outputs": [],
   "source": [
    "# CVI - crypto volatility index"
   ]
  },
  {
   "cell_type": "code",
   "execution_count": null,
   "id": "ae8c4472-e89c-42ae-9a23-164f983482ab",
   "metadata": {},
   "outputs": [],
   "source": [
    "# S&P (SPY) and ASX"
   ]
  },
  {
   "cell_type": "code",
   "execution_count": null,
   "id": "14554257-8736-4194-93a0-787b36d991a4",
   "metadata": {},
   "outputs": [],
   "source": [
    "# Porforlios : do some research"
   ]
  },
  {
   "cell_type": "code",
   "execution_count": 42,
   "id": "d279a9c2-90a7-41dd-89c4-ab0f9851762d",
   "metadata": {},
   "outputs": [
    {
     "ename": "ModuleNotFoundError",
     "evalue": "No module named 'cryptocompare'",
     "output_type": "error",
     "traceback": [
      "\u001b[1;31m---------------------------------------------------------------------------\u001b[0m",
      "\u001b[1;31mModuleNotFoundError\u001b[0m                       Traceback (most recent call last)",
      "\u001b[1;32m~\\AppData\\Local\\Temp\\ipykernel_13376\\2249493732.py\u001b[0m in \u001b[0;36m<module>\u001b[1;34m\u001b[0m\n\u001b[1;32m----> 1\u001b[1;33m \u001b[1;32mimport\u001b[0m \u001b[0mcryptocompare\u001b[0m\u001b[1;33m\u001b[0m\u001b[1;33m\u001b[0m\u001b[0m\n\u001b[0m\u001b[0;32m      2\u001b[0m \u001b[0mprice\u001b[0m \u001b[1;33m=\u001b[0m \u001b[0mcryptocompare\u001b[0m\u001b[1;33m.\u001b[0m\u001b[0mget_price\u001b[0m\u001b[1;33m(\u001b[0m\u001b[1;34m'BTC'\u001b[0m\u001b[1;33m,\u001b[0m \u001b[1;34m'USD'\u001b[0m\u001b[1;33m)\u001b[0m\u001b[1;33m\u001b[0m\u001b[1;33m\u001b[0m\u001b[0m\n\u001b[0;32m      3\u001b[0m \u001b[0mprint\u001b[0m\u001b[1;33m(\u001b[0m\u001b[0mprice\u001b[0m\u001b[1;33m)\u001b[0m\u001b[1;33m\u001b[0m\u001b[1;33m\u001b[0m\u001b[0m\n",
      "\u001b[1;31mModuleNotFoundError\u001b[0m: No module named 'cryptocompare'"
     ]
    }
   ],
   "source": [
    "import cryptocompare\n",
    "price = cryptocompare.get_price('BTC', 'USD')\n",
    "print(price)"
   ]
  },
  {
   "cell_type": "code",
   "execution_count": null,
   "id": "467a1b7b-bad4-4341-ae87-aba59b18b0b7",
   "metadata": {},
   "outputs": [],
   "source": []
  },
  {
   "cell_type": "code",
   "execution_count": null,
   "id": "365699d9-cdb6-41b9-90e7-a5d49a89b866",
   "metadata": {},
   "outputs": [],
   "source": []
  },
  {
   "cell_type": "code",
   "execution_count": null,
   "id": "d6851dd7-7e94-4924-8793-38c9fdfb6e81",
   "metadata": {},
   "outputs": [],
   "source": []
  },
  {
   "cell_type": "code",
   "execution_count": null,
   "id": "45485f56-2e11-43d1-b4b2-412bcbe8bc7c",
   "metadata": {},
   "outputs": [],
   "source": [
    "# Monte Carlo Simulation in 1, 5, 10 years of different poforlios"
   ]
  },
  {
   "cell_type": "code",
   "execution_count": null,
   "id": "3b92ecb5-df2c-4a8d-b4d8-5082b0d5a628",
   "metadata": {},
   "outputs": [],
   "source": []
  },
  {
   "cell_type": "code",
   "execution_count": null,
   "id": "318e99ab-e4f6-4b89-bbdc-317b229331d1",
   "metadata": {},
   "outputs": [],
   "source": []
  },
  {
   "cell_type": "code",
   "execution_count": null,
   "id": "2f3feb6b-de2e-4334-84ab-dc01070aefcd",
   "metadata": {},
   "outputs": [],
   "source": []
  }
 ],
 "metadata": {
  "kernelspec": {
   "display_name": "dev",
   "language": "python",
   "name": "dev"
  },
  "language_info": {
   "codemirror_mode": {
    "name": "ipython",
    "version": 3
   },
   "file_extension": ".py",
   "mimetype": "text/x-python",
   "name": "python",
   "nbconvert_exporter": "python",
   "pygments_lexer": "ipython3",
   "version": "3.7.13"
  }
 },
 "nbformat": 4,
 "nbformat_minor": 5
}
