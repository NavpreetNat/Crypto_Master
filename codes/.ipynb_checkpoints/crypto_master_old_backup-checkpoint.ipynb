{
 "cells": [
  {
   "cell_type": "code",
   "execution_count": null,
   "id": "4a679303-799d-43fa-8988-90cc0059e7ac",
   "metadata": {},
   "outputs": [],
   "source": [
    "# Initial imports\n",
    "\n",
    "import os\n",
    "import requests\n",
    "import pandas as pd\n",
    "import numpy as np\n",
    "import datetime as dt\n",
    "#import alpaca_trade_api as tradeapi\n",
    "import seaborn as sns\n",
    "#from dotenv import load_dotenv\n",
    "#from MCForecastTools import MCSimulation\n",
    "from pathlib import Path\n",
    "\n",
    "from pandas_datareader import data as pdr\n",
    "\n",
    "%matplotlib inline"
   ]
  },
  {
   "cell_type": "code",
   "execution_count": null,
   "id": "048cdb04-aa50-46b5-b0e2-7db3a7c01fd1",
   "metadata": {},
   "outputs": [],
   "source": [
    "# Define the 'get_data' function\n",
    "def get_data(stocks, start, end):\n",
    "    stockData = pdr.get_data_yahoo(stocks, start, end)\n",
    "    stockData = stockData[\"Close\"]\n",
    "    returns = stockData.pct_change()\n",
    "    meanReturns = returns.mean()\n",
    "    covMatrix = returns.cov()\n",
    "    return meanReturns, covMatrix\n",
    "\n",
    "# Identify the Cryptos\n",
    "stockList = [\"ADA\", \"SOL\", \"BNB\", \"XRP\", \"ETH\", \"BTC\"]\n",
    "stocks = [stock + \"-USD\" for stock in stockList]\n",
    "endDate = dt.datetime.now()\n",
    "startDate = endDate - dt.timedelta(days = 365)\n",
    "\n",
    "\n",
    "data = web.DataReader(stocks, start=startdate, end=enddate, data_source='yahoo')['Close']"
   ]
  },
  {
   "cell_type": "markdown",
   "id": "3167b21f-d3c0-46ad-b56f-0842247b07e8",
   "metadata": {},
   "source": [
    "# Crypto Selection\n",
    "- According to market cap data from yahoo finance \n",
    "- Exclude cryptos closely linked to USD, e.g. USDT, USDC etc.\n",
    "- Top 6 Cryptos which have the largest market cap"
   ]
  },
  {
   "cell_type": "markdown",
   "id": "2ee2fc17-e3e1-434d-9506-6c41399517a2",
   "metadata": {},
   "source": [
    "# Reading the CSV files into DataFrames and perform any necessary data cleaning steps. After cleaning, combine all DataFrames into a single DataFrame.\n",
    "\n",
    "Files (Data from Google Finance and time range from 3-1-2009 to 26-10-2022):\n",
    "* BTC  \n",
    "* ETH  \n",
    "* BNB \n",
    "* XRP \n",
    "* ADA \n",
    "* SOL "
   ]
  },
  {
   "cell_type": "code",
   "execution_count": null,
   "id": "b7e39307-d504-4d83-8c0d-3f59d582c843",
   "metadata": {},
   "outputs": [],
   "source": [
    "# Read in price data from CSV files\n",
    "\n",
    "ada_path = Path(\"../Resources/ADA.csv\")\n",
    "\n",
    "ada_data = pd.read_csv(ada_path, index_col = 'Date', parse_dates = True,infer_datetime_format = True)\n",
    "\n",
    "ada_data.index = ada_data.index.date\n",
    "\n",
    "ada_data = ada_data.rename(columns={'Close':'ADA Close'})\n",
    "\n",
    "ada_data"
   ]
  },
  {
   "cell_type": "code",
   "execution_count": null,
   "id": "af1ee0df-3c01-4303-90b4-3a92e3780f17",
   "metadata": {},
   "outputs": [],
   "source": [
    "ada_data.plot(figsize=(20,10),title='ADA price history')"
   ]
  },
  {
   "cell_type": "code",
   "execution_count": null,
   "id": "52098d5a-5354-45fb-9fed-e40d42a2ff7f",
   "metadata": {},
   "outputs": [],
   "source": [
    "# Count nulls\n",
    "ada_data.isnull().sum()"
   ]
  },
  {
   "cell_type": "code",
   "execution_count": null,
   "id": "a82234c1-c72c-4a3d-8e90-d77b5ef8e9ef",
   "metadata": {},
   "outputs": [],
   "source": [
    "# Calculate Daily Returns\n",
    "ada_daily_return = ada_data.pct_change()\n",
    "\n",
    "# Rename the column to 'ADA D_Return'\n",
    "\n",
    "ada_daily_return = ada_daily_return.rename(columns={'Close':'ADA D_Return'})\n",
    "\n",
    "ada_daily_return"
   ]
  },
  {
   "cell_type": "code",
   "execution_count": null,
   "id": "106e4c97-e08c-4ece-b88b-8f05fb31fb21",
   "metadata": {},
   "outputs": [],
   "source": [
    "# Read in SOL price data from CSV files\n",
    "\n",
    "sol_path = Path(\"../Resources/SOL.csv\")\n",
    "\n",
    "sol_data = pd.read_csv(sol_path, index_col = 'Date', parse_dates = True,infer_datetime_format = True)\n",
    "\n",
    "sol_data.index = sol_data.index.date\n",
    "\n",
    "sol_data = sol_data.rename(columns={'Close':'SOL Close'})\n",
    "\n",
    "sol_data"
   ]
  },
  {
   "cell_type": "code",
   "execution_count": null,
   "id": "5a416733-10a4-4111-aaeb-bffc2f0a3889",
   "metadata": {},
   "outputs": [],
   "source": [
    "sol_data.plot(figsize=(20,10),title='SOL price history')"
   ]
  },
  {
   "cell_type": "code",
   "execution_count": null,
   "id": "b7a84264-4032-44fa-841a-6493e0109ac5",
   "metadata": {},
   "outputs": [],
   "source": [
    "# Count nulls\n",
    "sol_data.isnull().sum()"
   ]
  },
  {
   "cell_type": "code",
   "execution_count": null,
   "id": "aac4bc89-d87c-4657-8031-06e5ce5d5dfa",
   "metadata": {},
   "outputs": [],
   "source": [
    "sol_daily_return = sol_data.pct_change()\n",
    "\n",
    "# Rename the column to 'SOL D_Return'\n",
    "\n",
    "sol_daily_return = sol_daily_return.rename(columns={'Close':'SOL D_Return'})\n",
    "\n",
    "sol_daily_return"
   ]
  },
  {
   "cell_type": "code",
   "execution_count": null,
   "id": "b34bc154-042e-428f-a1ac-af45edd62412",
   "metadata": {},
   "outputs": [],
   "source": [
    "# Read in BTC csv file\n",
    "btc_path = Path(\"../Resources/BTC.csv\")\n",
    "\n",
    "btc_data = pd.read_csv(btc_path, index_col = 'Date', parse_dates = True,infer_datetime_format = True)\n",
    "\n",
    "btc_data.index = btc_data.index.date\n",
    "\n",
    "btc_data = btc_data.rename(columns={'Close':'BTC Close'})\n",
    "\n",
    "btc_data\n"
   ]
  },
  {
   "cell_type": "code",
   "execution_count": null,
   "id": "1b495234-ee28-4401-98dd-684db401d3be",
   "metadata": {},
   "outputs": [],
   "source": [
    "btc_data.plot(figsize=(20,10),title='BTC price history')"
   ]
  },
  {
   "cell_type": "code",
   "execution_count": null,
   "id": "b1b825d5-6730-404a-8826-506c5ec3184a",
   "metadata": {},
   "outputs": [],
   "source": []
  },
  {
   "cell_type": "code",
   "execution_count": null,
   "id": "e12f69ae-1f4b-4f9e-a4ea-f35bd8243fdb",
   "metadata": {},
   "outputs": [],
   "source": [
    "# Count nulls\n",
    "btc_data.isnull().sum()"
   ]
  },
  {
   "cell_type": "code",
   "execution_count": null,
   "id": "d7b19c38-02bb-4248-85b3-9283080d41c1",
   "metadata": {},
   "outputs": [],
   "source": [
    "# Calculate Daily Returns\n",
    "btc_daily_return = btc_data.pct_change()\n",
    "\n",
    "# Rename the column to 'BTC D_Return'\n",
    "\n",
    "btc_daily_return = btc_daily_return.rename(columns={'Close':'BTC D_Return'})\n",
    "\n",
    "btc_daily_return"
   ]
  },
  {
   "cell_type": "code",
   "execution_count": null,
   "id": "e17456a4-792e-416f-8fa2-a2ec774fb05f",
   "metadata": {},
   "outputs": [],
   "source": [
    "# Read in BNB csv file\n",
    "bnb_path = Path(\"../Resources/BNB.csv\")\n",
    "\n",
    "bnb_data = pd.read_csv(bnb_path, index_col = 'Date', parse_dates = True,infer_datetime_format = True)\n",
    "\n",
    "bnb_data.index = bnb_data.index.date\n",
    "\n",
    "bnb_data =bnb_data.rename(columns={'Close':'BNB Close'})\n",
    "\n",
    "bnb_data"
   ]
  },
  {
   "cell_type": "code",
   "execution_count": null,
   "id": "38f21e2f-fed1-44dd-8c83-f65078c340e9",
   "metadata": {},
   "outputs": [],
   "source": [
    "bnb_data.plot(figsize=(20,10),title='BNB price history')"
   ]
  },
  {
   "cell_type": "code",
   "execution_count": null,
   "id": "440a023f-be96-40a1-9083-2d6b622384ce",
   "metadata": {},
   "outputs": [],
   "source": [
    "# Count nulls\n",
    "bnb_data.isnull().sum()"
   ]
  },
  {
   "cell_type": "code",
   "execution_count": null,
   "id": "a78b04ba-5fcc-4dd9-ac67-b6d3bef4d980",
   "metadata": {},
   "outputs": [],
   "source": [
    "# Calculate Daily Returns\n",
    "bnb_daily_return = bnb_data.pct_change()\n",
    "\n",
    "# Rename the column to 'BNB D_Return'\n",
    "\n",
    "bnb_daily_return = bnb_daily_return.rename(columns={'Close':'BNB D_Return'})\n",
    "\n",
    "bnb_daily_return"
   ]
  },
  {
   "cell_type": "code",
   "execution_count": null,
   "id": "f3fd6294-9a9e-406a-bcd1-dfedfe145086",
   "metadata": {},
   "outputs": [],
   "source": [
    "# Raad in ETH csv file\n",
    "eth_path = Path(\"../Resources/ETH.csv\")\n",
    "\n",
    "eth_data = pd.read_csv(eth_path, index_col = 'Date', parse_dates = True,infer_datetime_format = True)\n",
    "\n",
    "eth_data.index = eth_data.index.date\n",
    "\n",
    "eth_data =eth_data.rename(columns={'Close':'ETH Close'})\n",
    "\n",
    "eth_data"
   ]
  },
  {
   "cell_type": "code",
   "execution_count": null,
   "id": "6da5d03b-3e49-4a75-83c0-bca8b2426d49",
   "metadata": {},
   "outputs": [],
   "source": [
    "eth_data.plot(figsize=(20,10),title='ETH price history')"
   ]
  },
  {
   "cell_type": "code",
   "execution_count": null,
   "id": "9d6ded3e-3127-4527-93ca-1f37311c31fa",
   "metadata": {},
   "outputs": [],
   "source": [
    "# Count nulls\n",
    "eth_data.isnull().sum()"
   ]
  },
  {
   "cell_type": "code",
   "execution_count": null,
   "id": "f3730047-343d-4a20-a613-e8bec6e49478",
   "metadata": {},
   "outputs": [],
   "source": [
    "# Calculate Daily Returns\n",
    "eth_daily_return = eth_data.pct_change()\n",
    "\n",
    "# Rename the column to 'BNB D_Return'\n",
    "\n",
    "eth_daily_return = eth_daily_return.rename(columns={'Close':'ETH D_Return'})\n",
    "\n",
    "eth_daily_return"
   ]
  },
  {
   "cell_type": "code",
   "execution_count": null,
   "id": "b3b8ba88-0c51-421b-b973-dedc50e62b48",
   "metadata": {},
   "outputs": [],
   "source": [
    "# Raad in XRP csv file\n",
    "xrp_path = Path(\"../Resources/XRP.csv\")\n",
    "\n",
    "xrp_data = pd.read_csv(xrp_path, index_col = 'Date', parse_dates = True,infer_datetime_format = True)\n",
    "\n",
    "xrp_data.index = xrp_data.index.date\n",
    "\n",
    "xrp_data =xrp_data.rename(columns={'Close':'XRP Close'})\n",
    "\n",
    "xrp_data"
   ]
  },
  {
   "cell_type": "code",
   "execution_count": null,
   "id": "b32fd2d5-8711-4dae-80ae-a26f02d59b5d",
   "metadata": {},
   "outputs": [],
   "source": [
    "xrp_data.plot(figsize=(20,10),title='XRP price history')"
   ]
  },
  {
   "cell_type": "code",
   "execution_count": null,
   "id": "3b355ef3-2f50-42dc-98b9-d3b001a89c02",
   "metadata": {},
   "outputs": [],
   "source": [
    "# Count nulls\n",
    "xrp_data.isnull().sum()"
   ]
  },
  {
   "cell_type": "code",
   "execution_count": null,
   "id": "2c20427b-1565-4373-913d-7530ed279999",
   "metadata": {},
   "outputs": [],
   "source": [
    "combined_price = pd.concat([btc_data,eth_data,bnb_data,xrp_data,ada_data,sol_data],axis='columns',join = 'inner')\n",
    "combined_price\n",
    "\n"
   ]
  },
  {
   "cell_type": "code",
   "execution_count": null,
   "id": "9b19ddba-4278-4dde-97c1-1f7263202cf1",
   "metadata": {},
   "outputs": [],
   "source": [
    "combined_price.plot(figsize=(20,10),title='Price History of the 6 Cryptos')"
   ]
  },
  {
   "cell_type": "code",
   "execution_count": null,
   "id": "32f98cb0-6267-4a46-9c5f-075da612698f",
   "metadata": {},
   "outputs": [],
   "source": [
    "# Calculate Daily Returns\n",
    "xrp_daily_return = xrp_data.pct_change()\n",
    "\n",
    "# Rename the column to 'BNB D_Return'\n",
    "\n",
    "xrp_daily_return = xrp_daily_return.rename(columns={'Close':'XRP D_Return'})\n",
    "\n",
    "xrp_daily_return"
   ]
  },
  {
   "cell_type": "code",
   "execution_count": null,
   "id": "3e1baccd-fd2f-48e6-be3e-9741cfaee8de",
   "metadata": {},
   "outputs": [],
   "source": []
  },
  {
   "cell_type": "code",
   "execution_count": null,
   "id": "87f4a41a-fcff-44d3-bd79-d9ab059a2b9c",
   "metadata": {},
   "outputs": [],
   "source": [
    "# Join All Returns into a single DataFrame with columns for each portfolio's returns.\n",
    "\n",
    "combined = pd.concat([btc_daily_return,eth_daily_return,bnb_daily_return,xrp_daily_return,ada_daily_return,sol_daily_return],axis='columns',join = 'inner')\n",
    "\n",
    "combined.dropna(inplace=True)\n",
    "combined"
   ]
  },
  {
   "cell_type": "code",
   "execution_count": null,
   "id": "9e31d900-3754-4825-a49e-a1ee565450da",
   "metadata": {},
   "outputs": [],
   "source": [
    "# plot the daily return of the 6 cryptos\n",
    "\n",
    "combined.plot(figsize=(20,10),title='Daily Return of All Portfolios')"
   ]
  },
  {
   "cell_type": "code",
   "execution_count": null,
   "id": "1d8a633d-4e7d-465d-ba22-52606791eae4",
   "metadata": {},
   "outputs": [],
   "source": [
    "# Calculate cumulative returns of the 6 cryptos\n",
    "\n",
    "cumulative_return = (1 + combined).cumprod()-1\n",
    "\n",
    "cumulative_return\n",
    "\n"
   ]
  },
  {
   "cell_type": "code",
   "execution_count": null,
   "id": "2e591d06-6472-453e-b84a-9131abfe2e1b",
   "metadata": {},
   "outputs": [],
   "source": [
    "cumulative_return.index"
   ]
  },
  {
   "cell_type": "code",
   "execution_count": null,
   "id": "0445832f-8df9-41b8-98fc-f51de845d9e9",
   "metadata": {},
   "outputs": [],
   "source": [
    "# Plot cumulative returns\n",
    "\n",
    "cumulative_return.plot()\n"
   ]
  },
  {
   "cell_type": "code",
   "execution_count": null,
   "id": "f6a0251f-8277-4011-95ee-a9ee20bbd8fb",
   "metadata": {},
   "outputs": [],
   "source": [
    "# plot the moving average"
   ]
  },
  {
   "cell_type": "code",
   "execution_count": null,
   "id": "61302b41-90a4-4609-9353-31ca2afa7d49",
   "metadata": {},
   "outputs": [],
   "source": [
    "# plot the volatilities of the 6 cryptos"
   ]
  },
  {
   "cell_type": "code",
   "execution_count": null,
   "id": "6dfe91e0-0f47-4040-a706-45e5b4b6be23",
   "metadata": {},
   "outputs": [],
   "source": [
    "# plot the Sharpe Ratio of the 6 cryptos"
   ]
  },
  {
   "cell_type": "code",
   "execution_count": null,
   "id": "cc061d6c-dc2b-41a9-8e50-a378a92287c2",
   "metadata": {},
   "outputs": [],
   "source": [
    "# Calculate the daily standard deviations\n",
    "\n",
    "combined_std = combined.std()\n",
    "combined_std"
   ]
  },
  {
   "cell_type": "code",
   "execution_count": null,
   "id": "0d11538b-da5d-4787-8b38-297cb4d2e85e",
   "metadata": {},
   "outputs": [],
   "source": [
    "# Plot the Standard Deviation of the 6 Cryptos\n",
    "\n",
    "combined_std.plot(kind = 'bar',title='Standard Deviation of the 6 Cryptos')\n",
    "\n"
   ]
  },
  {
   "cell_type": "code",
   "execution_count": null,
   "id": "63759a0b-b838-4cb2-80ca-66611fba63b2",
   "metadata": {},
   "outputs": [],
   "source": [
    "########## plot the rolling std (30 days, 60 days) of the 6 cryptos"
   ]
  },
  {
   "cell_type": "code",
   "execution_count": null,
   "id": "43796c55-9a6b-43ea-ae83-679fae8fb143",
   "metadata": {},
   "outputs": [],
   "source": [
    "######### plot the heatmap"
   ]
  },
  {
   "cell_type": "code",
   "execution_count": null,
   "id": "ebd29ee2-b1e9-4082-94ee-b4f774e432e5",
   "metadata": {},
   "outputs": [],
   "source": [
    "######## CVI - crypto volatility index"
   ]
  },
  {
   "cell_type": "code",
   "execution_count": null,
   "id": "ae8c4472-e89c-42ae-9a23-164f983482ab",
   "metadata": {},
   "outputs": [],
   "source": [
    "######### S&P (SPY) and ASX"
   ]
  },
  {
   "cell_type": "code",
   "execution_count": null,
   "id": "14554257-8736-4194-93a0-787b36d991a4",
   "metadata": {},
   "outputs": [],
   "source": [
    "######### Porforlios : do some research"
   ]
  },
  {
   "cell_type": "markdown",
   "id": "a7b298ab-d0ba-43c5-bddb-5cdd00225f9d",
   "metadata": {},
   "source": [
    "# Comparison between Dollar-Cost Averaging and Lump Sum Investment in 5 years time range"
   ]
  },
  {
   "cell_type": "code",
   "execution_count": null,
   "id": "793ba00d-41a4-422c-8b0e-eb5f85f1c4e8",
   "metadata": {},
   "outputs": [],
   "source": [
    "# Within 5 years time period, get the close price once every month, calculate the amount by 100/close_price\n",
    "# get the sum amount and calculate the value by the final close price*sum_amount"
   ]
  },
  {
   "cell_type": "code",
   "execution_count": null,
   "id": "b436f4cc-fe16-4b79-ac98-0a4dd85247d2",
   "metadata": {},
   "outputs": [],
   "source": [
    "btc_data_slice = btc_data[650:]\n",
    "btc_data_slice"
   ]
  },
  {
   "cell_type": "code",
   "execution_count": null,
   "id": "cbb7a295-b6bb-4738-ac2b-7ede180d5409",
   "metadata": {},
   "outputs": [],
   "source": [
    "# 52 weeks in one year, 52*5/12 = 65 months\n",
    "# suppose we started investing from the first date in the dataframe which is 2017-10-31 and invest $100 every month\n",
    "\n",
    "\n",
    "\n",
    "cal_times = 0\n",
    "i = 0\n",
    "amount = 0\n",
    "\n",
    "\n",
    "while cal_times < 65:\n",
    "\n",
    "        print(btc_data_slice.index[i])\n",
    "        price = btc_data_slice.iloc[i,0]\n",
    "\n",
    "        amount = amount + 100/price\n",
    "        \n",
    "        print(price,amount)\n",
    "    \n",
    "        i = i + 28\n",
    "    \n",
    "        cal_times += 1\n",
    "    \n",
    "        print(cal_times)\n",
    "    \n",
    "last_date_time =  btc_data_slice.index[i-28]\n",
    "last_price_btc = btc_data_slice.iloc[i-28,0]\n",
    "\n",
    "print(f'total amount of btc:{amount}')\n",
    "print(f'last date time is:{last_date_time}')\n",
    "print(f'last price of btc is:{last_price_btc}')\n",
    "\n",
    "dca_btc_value = amount * last_price_btc\n",
    "\n",
    "dca_btc_value"
   ]
  },
  {
   "cell_type": "code",
   "execution_count": null,
   "id": "faf8e086-2184-4c9e-aff2-0532af8155b4",
   "metadata": {},
   "outputs": [],
   "source": [
    "btc_cumprod = (btc_daily_return+1).cumprod()-1\n",
    "\n",
    "\n",
    "\n",
    "btc_cumprod.index=pd.to_datetime(btc_cumprod.index)\n",
    "\n",
    "btc_cumprod.loc['2022-07-27']\n",
    "\n",
    "#btc_cumprod.index"
   ]
  },
  {
   "cell_type": "code",
   "execution_count": null,
   "id": "bd78e7bb-a553-48e5-8c7f-58894e00c718",
   "metadata": {},
   "outputs": [],
   "source": []
  },
  {
   "cell_type": "code",
   "execution_count": null,
   "id": "fcd31244-3bf1-42c5-8dbe-db9dcf89fce7",
   "metadata": {},
   "outputs": [],
   "source": []
  },
  {
   "cell_type": "code",
   "execution_count": null,
   "id": "ec8cd43b-b800-47e3-ae12-b9564eb68ddf",
   "metadata": {},
   "outputs": [],
   "source": []
  },
  {
   "cell_type": "code",
   "execution_count": null,
   "id": "09eb849c-51e1-4ea6-b842-a424dbc0a3cf",
   "metadata": {},
   "outputs": [],
   "source": []
  },
  {
   "cell_type": "code",
   "execution_count": null,
   "id": "365699d9-cdb6-41b9-90e7-a5d49a89b866",
   "metadata": {},
   "outputs": [],
   "source": [
    "# A Lump Sum Investment Vs. DCA(Dollar-Cost Averaging) Investment Comparison\n",
    "\n",
    "# $6500 in the beginning Vs. $100 per month from 2017-2022\n",
    "\n",
    "# (52*5/4)*100 = 6500\n",
    "\n",
    "last_date_time\n",
    "\n",
    "initail_amount = 6500\n",
    "\n",
    "cum_return_btc = btc_cumprod.loc['2022-07-27']\n",
    "\n",
    "\n",
    "print(f'cum_return_btc:{cum_return_btc}')\n",
    "\n",
    "\n",
    "\n",
    "compound_return_btc = initail_amount * cum_return_btc\n",
    "\n",
    "\n",
    "print(f'compound_return_btc:{compound_return_btc}')\n"
   ]
  },
  {
   "cell_type": "code",
   "execution_count": null,
   "id": "d6851dd7-7e94-4924-8793-38c9fdfb6e81",
   "metadata": {},
   "outputs": [],
   "source": []
  },
  {
   "cell_type": "code",
   "execution_count": null,
   "id": "35e24e76-4859-4033-bd36-001a982cc52e",
   "metadata": {},
   "outputs": [],
   "source": []
  },
  {
   "cell_type": "code",
   "execution_count": null,
   "id": "edd773d6-cdc5-4d7b-b6a0-c7b0c58dce06",
   "metadata": {},
   "outputs": [],
   "source": []
  },
  {
   "cell_type": "code",
   "execution_count": null,
   "id": "7dfa267e-99e9-4150-a09f-3787b70aa642",
   "metadata": {},
   "outputs": [],
   "source": []
  },
  {
   "cell_type": "code",
   "execution_count": null,
   "id": "3fb8e698-686c-425a-b5eb-362f2fde491d",
   "metadata": {},
   "outputs": [],
   "source": []
  },
  {
   "cell_type": "code",
   "execution_count": null,
   "id": "ca45da84-445b-4569-bc40-041105ad4839",
   "metadata": {},
   "outputs": [],
   "source": []
  },
  {
   "cell_type": "code",
   "execution_count": null,
   "id": "d4d3a207-cec9-47e7-87fd-03ac56370664",
   "metadata": {},
   "outputs": [],
   "source": []
  },
  {
   "cell_type": "code",
   "execution_count": null,
   "id": "8ac16813-677c-4ac7-9724-d7ec116cd3d7",
   "metadata": {},
   "outputs": [],
   "source": []
  },
  {
   "cell_type": "code",
   "execution_count": null,
   "id": "024a8eff-2081-4c4f-9931-b638420c46c2",
   "metadata": {},
   "outputs": [],
   "source": []
  },
  {
   "cell_type": "code",
   "execution_count": null,
   "id": "d57b0023-a7b5-4ca5-b616-2bdbdeab8178",
   "metadata": {},
   "outputs": [],
   "source": []
  },
  {
   "cell_type": "code",
   "execution_count": null,
   "id": "830feea4-7360-40c5-b776-febefdc068c7",
   "metadata": {},
   "outputs": [],
   "source": []
  },
  {
   "cell_type": "code",
   "execution_count": null,
   "id": "45485f56-2e11-43d1-b4b2-412bcbe8bc7c",
   "metadata": {},
   "outputs": [],
   "source": [
    "# Monte Carlo Simulation in 1, 5, 10 years of different poforlios"
   ]
  },
  {
   "cell_type": "code",
   "execution_count": null,
   "id": "3b92ecb5-df2c-4a8d-b4d8-5082b0d5a628",
   "metadata": {},
   "outputs": [],
   "source": []
  },
  {
   "cell_type": "code",
   "execution_count": null,
   "id": "318e99ab-e4f6-4b89-bbdc-317b229331d1",
   "metadata": {},
   "outputs": [],
   "source": []
  },
  {
   "cell_type": "code",
   "execution_count": null,
   "id": "2f3feb6b-de2e-4334-84ab-dc01070aefcd",
   "metadata": {},
   "outputs": [],
   "source": []
  }
 ],
 "metadata": {
  "kernelspec": {
   "display_name": "dev",
   "language": "python",
   "name": "dev"
  },
  "language_info": {
   "codemirror_mode": {
    "name": "ipython",
    "version": 3
   },
   "file_extension": ".py",
   "mimetype": "text/x-python",
   "name": "python",
   "nbconvert_exporter": "python",
   "pygments_lexer": "ipython3",
   "version": "3.7.13"
  }
 },
 "nbformat": 4,
 "nbformat_minor": 5
}
