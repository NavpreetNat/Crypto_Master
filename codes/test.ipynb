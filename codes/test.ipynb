{
 "cells": [
  {
   "cell_type": "code",
   "execution_count": 69,
   "id": "27f57394-6ec3-4e1b-a6db-d7cc5d405aee",
   "metadata": {},
   "outputs": [],
   "source": [
    "# Initial imports\n",
    "\n",
    "import os\n",
    "import requests\n",
    "import pandas as pd\n",
    "import numpy as np\n",
    "import datetime as dt\n",
    "import alpaca_trade_api as tradeapi\n",
    "import seaborn as sns\n",
    "from dotenv import load_dotenv\n",
    "from MCForecastTools import MCSimulation\n",
    "from pathlib import Path\n",
    "\n",
    "import matplotlib.pyplot as plt\n",
    "\n",
    "from pandas_datareader import data as pdr\n",
    "\n",
    "%matplotlib inline"
   ]
  },
  {
   "cell_type": "code",
   "execution_count": 68,
   "id": "00807060-a766-4d57-ac78-b95766d6528a",
   "metadata": {},
   "outputs": [
    {
     "ename": "SyntaxError",
     "evalue": "invalid syntax (2741077665.py, line 5)",
     "output_type": "error",
     "traceback": [
      "\u001b[1;36m  File \u001b[1;32m\"C:\\Users\\xuxuz\\AppData\\Local\\Temp\\ipykernel_19500\\2741077665.py\"\u001b[1;36m, line \u001b[1;32m5\u001b[0m\n\u001b[1;33m    stockData.\u001b[0m\n\u001b[1;37m              ^\u001b[0m\n\u001b[1;31mSyntaxError\u001b[0m\u001b[1;31m:\u001b[0m invalid syntax\n"
     ]
    }
   ],
   "source": [
    "start= pd.to_datetime('2017-08-01')\n",
    "end=pd.to_datetime('2022-09-01')\n",
    "\n",
    "stockData = pdr.get_data_yahoo('SOL-USD', start, end)\n",
    "stockData."
   ]
  },
  {
   "cell_type": "code",
   "execution_count": 42,
   "id": "bbd7cfef-15a0-40e6-81c8-bb5b728518d3",
   "metadata": {},
   "outputs": [],
   "source": [
    "# The process of reading csv file and renaming is repetitive, thus define a function read_crypto_price(str) to do it\n",
    "# Parameter 'str' means the ticker for the crypto and naming of the CSV file should be the same with the ticker\n",
    "# This functions returns the dataframe of the CSV file with the close prices of the crypto\n",
    "\n",
    "def read_crypto_price(str):\n",
    "    path_str = \"../Resources/\"+str+\".csv\"\n",
    "    path = Path(path_str)\n",
    "    data = pd.read_csv(path, index_col = 'Date', parse_dates = True,infer_datetime_format = True)\n",
    "    data.index = pd.to_datetime(data.index.date)\n",
    "    rename_str = str + \" Close\"   \n",
    "    data = data.rename(columns={'Close':rename_str})\n",
    "\n",
    "    return data"
   ]
  },
  {
   "cell_type": "code",
   "execution_count": 46,
   "id": "fe9e5965-9c8f-46b9-a11c-ca79384b8733",
   "metadata": {},
   "outputs": [],
   "source": [
    "ada_data = read_crypto_price('ADA')\n",
    "btc_data = read_crypto_price('BTC')\n",
    "eth_data = read_crypto_price('ETH')\n",
    "sol_data = read_crypto_price('SOL')\n",
    "xrp_data = read_crypto_price('XRP')\n",
    "bnb_data = read_crypto_price('BNB')"
   ]
  },
  {
   "cell_type": "code",
   "execution_count": null,
   "id": "3d590b71-9c17-4390-9161-16fe351b5e23",
   "metadata": {},
   "outputs": [],
   "source": []
  },
  {
   "cell_type": "code",
   "execution_count": null,
   "id": "9216903a-e006-48e8-868b-3dddc293db6c",
   "metadata": {},
   "outputs": [],
   "source": []
  },
  {
   "cell_type": "code",
   "execution_count": 47,
   "id": "4a8cf211-2884-4f30-9d92-7ef8cd98b15b",
   "metadata": {},
   "outputs": [
    {
     "data": {
      "text/html": [
       "<div>\n",
       "<style scoped>\n",
       "    .dataframe tbody tr th:only-of-type {\n",
       "        vertical-align: middle;\n",
       "    }\n",
       "\n",
       "    .dataframe tbody tr th {\n",
       "        vertical-align: top;\n",
       "    }\n",
       "\n",
       "    .dataframe thead th {\n",
       "        text-align: right;\n",
       "    }\n",
       "</style>\n",
       "<table border=\"1\" class=\"dataframe\">\n",
       "  <thead>\n",
       "    <tr style=\"text-align: right;\">\n",
       "      <th></th>\n",
       "      <th>ADA Close</th>\n",
       "    </tr>\n",
       "  </thead>\n",
       "  <tbody>\n",
       "    <tr>\n",
       "      <th>2017-11-28</th>\n",
       "      <td>0.099375</td>\n",
       "    </tr>\n",
       "    <tr>\n",
       "      <th>2017-11-29</th>\n",
       "      <td>0.101595</td>\n",
       "    </tr>\n",
       "    <tr>\n",
       "      <th>2017-11-30</th>\n",
       "      <td>0.096775</td>\n",
       "    </tr>\n",
       "    <tr>\n",
       "      <th>2017-12-01</th>\n",
       "      <td>0.108201</td>\n",
       "    </tr>\n",
       "    <tr>\n",
       "      <th>2017-12-02</th>\n",
       "      <td>0.109190</td>\n",
       "    </tr>\n",
       "    <tr>\n",
       "      <th>...</th>\n",
       "      <td>...</td>\n",
       "    </tr>\n",
       "    <tr>\n",
       "      <th>2022-07-28</th>\n",
       "      <td>0.512928</td>\n",
       "    </tr>\n",
       "    <tr>\n",
       "      <th>2022-07-29</th>\n",
       "      <td>0.524279</td>\n",
       "    </tr>\n",
       "    <tr>\n",
       "      <th>2022-07-30</th>\n",
       "      <td>0.524547</td>\n",
       "    </tr>\n",
       "    <tr>\n",
       "      <th>2022-07-31</th>\n",
       "      <td>0.515699</td>\n",
       "    </tr>\n",
       "    <tr>\n",
       "      <th>2022-08-01</th>\n",
       "      <td>0.512977</td>\n",
       "    </tr>\n",
       "  </tbody>\n",
       "</table>\n",
       "<p>1703 rows × 1 columns</p>\n",
       "</div>"
      ],
      "text/plain": [
       "            ADA Close\n",
       "2017-11-28   0.099375\n",
       "2017-11-29   0.101595\n",
       "2017-11-30   0.096775\n",
       "2017-12-01   0.108201\n",
       "2017-12-02   0.109190\n",
       "...               ...\n",
       "2022-07-28   0.512928\n",
       "2022-07-29   0.524279\n",
       "2022-07-30   0.524547\n",
       "2022-07-31   0.515699\n",
       "2022-08-01   0.512977\n",
       "\n",
       "[1703 rows x 1 columns]"
      ]
     },
     "execution_count": 47,
     "metadata": {},
     "output_type": "execute_result"
    }
   ],
   "source": [
    "# Extract the past 5 years' data from btc_data, time range starts from '2017-09-01' and end '2022-08-01' totally 60 months\n",
    "ada_data_slice = ada_data['2017-09-01':'2022-08-01']\n",
    "ada_data_slice"
   ]
  },
  {
   "cell_type": "code",
   "execution_count": 64,
   "id": "6cbaae80-2f47-4ec9-97eb-8ffe93af6a89",
   "metadata": {},
   "outputs": [
    {
     "data": {
      "text/plain": [
       "58"
      ]
     },
     "execution_count": 64,
     "metadata": {},
     "output_type": "execute_result"
    }
   ],
   "source": [
    "# Group by year and month and get the first price of each month using first() function\n",
    "ada_inv_price=ada_data_slice.groupby([ada_data_slice.index.year, ada_data_slice.index.month]).first()\n",
    "ada_inv_price.describe()\n",
    "\n",
    "df = ada_inv_price.describe()\n"
   ]
  },
  {
   "cell_type": "code",
   "execution_count": 66,
   "id": "1ae49925-69c8-4ecf-b861-c07371ef8f15",
   "metadata": {},
   "outputs": [
    {
     "data": {
      "text/plain": [
       "58"
      ]
     },
     "execution_count": 66,
     "metadata": {},
     "output_type": "execute_result"
    }
   ],
   "source": [
    "count = int(df.iloc[0,0])\n",
    "count"
   ]
  },
  {
   "cell_type": "code",
   "execution_count": 65,
   "id": "9971d514-2c1e-4a86-a76d-00963ea82ed2",
   "metadata": {},
   "outputs": [
    {
     "name": "stdout",
     "output_type": "stream",
     "text": [
      "Year:2017, Month:11, Pirce:0.0993751, Amount Acquired:1006.2883, Amount Totally Acquired:1006.2883\n",
      "Year:2017, Month:12, Pirce:0.1082012, Amount Acquired:924.2042, Amount Totally Acquired:1930.4925\n",
      "Year:2018, Month:1, Pirce:0.679207, Amount Acquired:147.2305, Amount Totally Acquired:2077.723\n",
      "Year:2018, Month:2, Pirce:0.42285776, Amount Acquired:236.4861, Amount Totally Acquired:2314.2091\n",
      "Year:2018, Month:3, Pirce:0.30633932, Amount Acquired:326.4354, Amount Totally Acquired:2640.6445\n",
      "Year:2018, Month:4, Pirce:0.15269342, Amount Acquired:654.9071, Amount Totally Acquired:3295.5516\n",
      "Year:2018, Month:5, Pirce:0.3550112475, Amount Acquired:281.6812, Amount Totally Acquired:3577.2328\n",
      "Year:2018, Month:6, Pirce:0.2263572915, Amount Acquired:441.7795, Amount Totally Acquired:4019.0123\n",
      "Year:2018, Month:7, Pirce:0.1417495002, Amount Acquired:705.4699, Amount Totally Acquired:4724.4822\n",
      "Year:2018, Month:8, Pirce:0.1396595783, Amount Acquired:716.0268, Amount Totally Acquired:5440.509\n",
      "Year:2018, Month:9, Pirce:0.1069001652, Amount Acquired:935.4522, Amount Totally Acquired:6375.9612\n",
      "Year:2018, Month:10, Pirce:0.0842990179, Amount Acquired:1186.2534, Amount Totally Acquired:7562.2146\n",
      "Year:2018, Month:11, Pirce:0.07101178873, Amount Acquired:1408.2169, Amount Totally Acquired:8970.4315\n",
      "Year:2018, Month:12, Pirce:0.04150935483, Amount Acquired:2409.0955, Amount Totally Acquired:11379.527\n",
      "Year:2019, Month:1, Pirce:0.04231813096, Amount Acquired:2363.0533, Amount Totally Acquired:13742.5803\n",
      "Year:2019, Month:2, Pirce:0.03837038594, Amount Acquired:2606.1765, Amount Totally Acquired:16348.7568\n",
      "Year:2019, Month:3, Pirce:0.04286112408, Amount Acquired:2333.1166, Amount Totally Acquired:18681.8734\n",
      "Year:2019, Month:4, Pirce:0.07227035523, Amount Acquired:1383.6932, Amount Totally Acquired:20065.5666\n",
      "Year:2019, Month:5, Pirce:0.06841873546, Amount Acquired:1461.588, Amount Totally Acquired:21527.1546\n",
      "Year:2019, Month:6, Pirce:0.09036721537, Amount Acquired:1106.596, Amount Totally Acquired:22633.7506\n",
      "Year:2019, Month:7, Pirce:0.0832259244, Amount Acquired:1201.5487, Amount Totally Acquired:23835.2993\n",
      "Year:2019, Month:8, Pirce:0.05863672226, Amount Acquired:1705.4159, Amount Totally Acquired:25540.7152\n",
      "Year:2019, Month:9, Pirce:0.0445122588, Amount Acquired:2246.5721, Amount Totally Acquired:27787.2873\n",
      "Year:2019, Month:10, Pirce:0.03835740211, Amount Acquired:2607.0587, Amount Totally Acquired:30394.346\n",
      "Year:2019, Month:11, Pirce:0.04219425378, Amount Acquired:2369.991, Amount Totally Acquired:32764.337\n",
      "Year:2019, Month:12, Pirce:0.03957231982, Amount Acquired:2527.0189, Amount Totally Acquired:35291.3559\n",
      "Year:2020, Month:1, Pirce:0.03332608927, Amount Acquired:3000.6521, Amount Totally Acquired:38292.008\n",
      "Year:2020, Month:2, Pirce:0.05599033011, Amount Acquired:1786.0227, Amount Totally Acquired:40078.0307\n",
      "Year:2020, Month:3, Pirce:0.0456780646, Amount Acquired:2189.2346, Amount Totally Acquired:42267.2653\n",
      "Year:2020, Month:4, Pirce:0.03102641958, Amount Acquired:3223.0596, Amount Totally Acquired:45490.3249\n",
      "Year:2020, Month:5, Pirce:0.05086725204, Amount Acquired:1965.9014, Amount Totally Acquired:47456.2263\n",
      "Year:2020, Month:6, Pirce:0.08094668526, Amount Acquired:1235.381, Amount Totally Acquired:48691.6073\n",
      "Year:2020, Month:7, Pirce:0.09670383066, Amount Acquired:1034.0852, Amount Totally Acquired:49725.6925\n",
      "Year:2020, Month:8, Pirce:0.144590262, Amount Acquired:691.6095, Amount Totally Acquired:50417.302\n",
      "Year:2020, Month:9, Pirce:0.1245961612, Amount Acquired:802.5929, Amount Totally Acquired:51219.8949\n",
      "Year:2020, Month:10, Pirce:0.09791085045, Amount Acquired:1021.3373, Amount Totally Acquired:52241.2322\n",
      "Year:2020, Month:11, Pirce:0.09810679824, Amount Acquired:1019.2974, Amount Totally Acquired:53260.5296\n",
      "Year:2020, Month:12, Pirce:0.1555392204, Amount Acquired:642.9247, Amount Totally Acquired:53903.4543\n",
      "Year:2021, Month:1, Pirce:0.1751921736, Amount Acquired:570.8018, Amount Totally Acquired:54474.2561\n",
      "Year:2021, Month:2, Pirce:0.4074880365, Amount Acquired:245.406, Amount Totally Acquired:54719.6621\n",
      "Year:2021, Month:3, Pirce:1.295374803, Amount Acquired:77.1977, Amount Totally Acquired:54796.8598\n",
      "Year:2021, Month:4, Pirce:1.182537997, Amount Acquired:84.5639, Amount Totally Acquired:54881.4237\n",
      "Year:2021, Month:5, Pirce:1.353825114, Amount Acquired:73.8648, Amount Totally Acquired:54955.2885\n",
      "Year:2021, Month:6, Pirce:1.735764301, Amount Acquired:57.6115, Amount Totally Acquired:55012.9\n",
      "Year:2021, Month:7, Pirce:1.33410769, Amount Acquired:74.9565, Amount Totally Acquired:55087.8565\n",
      "Year:2021, Month:8, Pirce:1.313759368, Amount Acquired:76.1174, Amount Totally Acquired:55163.9739\n",
      "Year:2021, Month:9, Pirce:2.871161488, Amount Acquired:34.8291, Amount Totally Acquired:55198.803\n",
      "Year:2021, Month:10, Pirce:2.256172272, Amount Acquired:44.3229, Amount Totally Acquired:55243.1259\n",
      "Year:2021, Month:11, Pirce:1.950196345, Amount Acquired:51.2769, Amount Totally Acquired:55294.4028\n",
      "Year:2021, Month:12, Pirce:1.546993028, Amount Acquired:64.6415, Amount Totally Acquired:55359.0443\n",
      "Year:2022, Month:1, Pirce:1.374895365, Amount Acquired:72.7328, Amount Totally Acquired:55431.7771\n",
      "Year:2022, Month:2, Pirce:1.086068805, Amount Acquired:92.0752, Amount Totally Acquired:55523.8523\n",
      "Year:2022, Month:3, Pirce:0.9648419148, Amount Acquired:103.6439, Amount Totally Acquired:55627.4962\n",
      "Year:2022, Month:4, Pirce:1.166122454, Amount Acquired:85.7543, Amount Totally Acquired:55713.2505\n",
      "Year:2022, Month:5, Pirce:0.7895755183, Amount Acquired:126.6503, Amount Totally Acquired:55839.9008\n",
      "Year:2022, Month:6, Pirce:0.5530854889, Amount Acquired:180.8039, Amount Totally Acquired:56020.7047\n",
      "Year:2022, Month:7, Pirce:0.4476569364, Amount Acquired:223.3853, Amount Totally Acquired:56244.09\n",
      "Year:2022, Month:8, Pirce:0.5129765932, Amount Acquired:194.9407, Amount Totally Acquired:56439.0307\n",
      "DCA acquired cryptos over the 5-year period valued at:28951.901691996212 \n",
      "DCA profit over the 5-year period :22951.901691996212 \n"
     ]
    }
   ],
   "source": [
    "# Calculate the total amount acquried for the $100 monthly investment\n",
    "\n",
    "amount = 0\n",
    "total_amount = 0\n",
    "i = 0\n",
    "\n",
    "ada_inv_price.reset_index(inplace=True)\n",
    "ada_inv_price\n",
    "\n",
    "while i<count:\n",
    "    price = ada_inv_price.iloc[i,2]\n",
    "    amount = round(100/price,4)\n",
    "    total_amount = round((total_amount + amount),4)\n",
    "    print(f'Year:{ada_inv_price.iloc[i,0]}, Month:{ada_inv_price.iloc[i,1]}, Pirce:{price}, Amount Acquired:{amount}, Amount Totally Acquired:{total_amount}')\n",
    "    i += 1\n",
    "\n",
    "dca_value = total_amount * price\n",
    "print(f'DCA acquired cryptos over the 5-year period valued at:{dca_value} ')\n",
    "\n",
    "# investment over 5 years total at $100*60 = $6000\n",
    "dca_profit = dca_value - 6000\n",
    "print(f'DCA profit over the 5-year period :{dca_profit} ')"
   ]
  },
  {
   "cell_type": "code",
   "execution_count": null,
   "id": "77e1d560-17ae-456e-9da8-667b3facd2e2",
   "metadata": {},
   "outputs": [],
   "source": [
    "\n",
    "# A Lump Sum Investment Return Calculation\n",
    "\n",
    "\n",
    "btc_daily_return = btc_data_slice.pct_change()\n",
    "btc_cumprod = (btc_daily_return+1).cumprod()-1\n",
    "btc_cumprod.dropna(inplace=True)\n",
    "btc_cumprod"
   ]
  },
  {
   "cell_type": "code",
   "execution_count": null,
   "id": "9453abf6-b676-4802-b579-18b62bb2b5d9",
   "metadata": {},
   "outputs": [],
   "source": [
    "initail_amount = 6000\n",
    "\n",
    "cum_return_btc = btc_cumprod.loc['2022-08-01',:]\n",
    "\n",
    "cum_return_btc"
   ]
  },
  {
   "cell_type": "code",
   "execution_count": null,
   "id": "cfdc7a96-beee-46e4-a62b-4340fe500cb2",
   "metadata": {},
   "outputs": [],
   "source": [
    "lump_sum_profit = initail_amount * cum_return_btc\n",
    "\n",
    "print(f'cum_return_btc:{cum_return_btc}')\n",
    "\n",
    "print(f'compound_return_btc:{lump_sum_profit}')"
   ]
  },
  {
   "cell_type": "code",
   "execution_count": null,
   "id": "d9c7215a-a99e-47d7-9151-5c396abd623b",
   "metadata": {},
   "outputs": [],
   "source": [
    "# profit comparison between lump sum Vs. DCA\n",
    "\n",
    "print('*****************************************************************************\\n')\n",
    "\n",
    "\n",
    "print(f'Initial investment of a lump sum of 6000 Vs. Monthly Investment of $100 over 5 years period Comparison\\n')\n",
    "\n",
    "print(f'DCA profit: {dca_profit}')\n",
    "\n",
    "print(f'Lump Sum profit: {lump_sum_profit}')\n",
    "\n",
    "\n",
    "print('\\n*****************************************************************************')"
   ]
  },
  {
   "cell_type": "code",
   "execution_count": null,
   "id": "bdd81fdc-66c6-487e-9c1e-5af9e154f383",
   "metadata": {},
   "outputs": [],
   "source": []
  },
  {
   "cell_type": "code",
   "execution_count": null,
   "id": "2fdc064c-e603-4e66-8fc1-5fd18e7c5a02",
   "metadata": {},
   "outputs": [],
   "source": []
  }
 ],
 "metadata": {
  "kernelspec": {
   "display_name": "dev",
   "language": "python",
   "name": "dev"
  },
  "language_info": {
   "codemirror_mode": {
    "name": "ipython",
    "version": 3
   },
   "file_extension": ".py",
   "mimetype": "text/x-python",
   "name": "python",
   "nbconvert_exporter": "python",
   "pygments_lexer": "ipython3",
   "version": "3.7.13"
  }
 },
 "nbformat": 4,
 "nbformat_minor": 5
}
