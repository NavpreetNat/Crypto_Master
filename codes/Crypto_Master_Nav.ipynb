{
 "cells": [
  {
   "cell_type": "code",
   "execution_count": 1,
   "id": "38a8142b-2083-4c64-883f-ca076c684bb8",
   "metadata": {},
   "outputs": [],
   "source": [
    "# INITIAL IMPORTS\n",
    "import os\n",
    "import requests\n",
    "import pandas as pd\n",
    "import numpy as np\n",
    "import datetime as dt\n",
    "import alpaca_trade_api as tradeapi\n",
    "import seaborn as sns\n",
    "from dotenv import load_dotenv\n",
    "from MCForecastTools import MCSimulation\n",
    "from pathlib import Path\n",
    "\n",
    "%matplotlib inline"
   ]
  },
  {
   "cell_type": "code",
   "execution_count": 2,
   "id": "4387928f-acc6-4e23-ba2b-5c75ad3fd2da",
   "metadata": {},
   "outputs": [],
   "source": [
    "# CREATE A PATH TO THE FILE FOR ADA\n",
    "csvpath_1 = Path(\"C:/Users/navpr/Desktop/git/Crypto_Master/resources/ADA.csv\")"
   ]
  },
  {
   "cell_type": "code",
   "execution_count": null,
   "id": "475c7c0b-1d50-4f7c-a82b-efa40ef53077",
   "metadata": {},
   "outputs": [],
   "source": [
    "# CREATE A PATH TO THE FILE FOR SOL\n",
    "csvpath_2 = Path(\"C:/Users/navpr/Desktop/git/Crypto_Master/resources/SOL.csv\")"
   ]
  },
  {
   "cell_type": "code",
   "execution_count": null,
   "id": "532a5d80-b03b-4455-99b0-782fbdc72e1c",
   "metadata": {},
   "outputs": [],
   "source": [
    "# CREATE A DATAFRAME FROM THE CSV FILE FOR ADA\n",
    "ADA_df = pd.read_csv(csvpath_1, index_col = \"Date\", infer_datetime_format = True, parse_dates = True)"
   ]
  },
  {
   "cell_type": "code",
   "execution_count": null,
   "id": "a63615f6-0048-4ca7-b6aa-2b8c81dfbdac",
   "metadata": {},
   "outputs": [],
   "source": [
    "# CREATE A DATAFRAME FROM THE CSV FILE FOR SOL\n",
    "SOL_df = pd.read_csv(csvpath_2, index_col = \"Date\", infer_datetime_format = True, parse_dates = True)"
   ]
  },
  {
   "cell_type": "code",
   "execution_count": null,
   "id": "dc6b319e-7069-4761-a7df-2f377951238e",
   "metadata": {},
   "outputs": [],
   "source": [
    "# IDENTIFY DATAFRAME DATA TYPES FOR ADA\n",
    "ADA_df.dtypes"
   ]
  },
  {
   "cell_type": "code",
   "execution_count": null,
   "id": "d3247cf2-0e47-48b6-bda0-5f2f866acd61",
   "metadata": {},
   "outputs": [],
   "source": [
    "# IDENTIFY DATAFRAME DATA TYPES FOR SOL\n",
    "SOL_df.dtypes"
   ]
  },
  {
   "cell_type": "code",
   "execution_count": null,
   "id": "f540783b-04a4-476c-9660-724f21dd3179",
   "metadata": {},
   "outputs": [],
   "source": [
    "# ASSESS DATA QUALITY BY COUNTING THE NUMBER OF ROWS FOR ADA\n",
    "ADA_df.count()"
   ]
  },
  {
   "cell_type": "code",
   "execution_count": null,
   "id": "23996117-4f37-4af2-96ff-9f4f453746f7",
   "metadata": {},
   "outputs": [],
   "source": [
    "# ASSESS DATA QUALITY BY COUNTING THE NUMBER OF ROWS FOR SOL\n",
    "SOL_df.count()"
   ]
  },
  {
   "cell_type": "code",
   "execution_count": null,
   "id": "550b8685-f6d5-43ca-a235-9419d1cbab9a",
   "metadata": {},
   "outputs": [],
   "source": [
    "# DETERMINE PERCENTAGE OF NULL VALUES FOR ADA\n",
    "ADA_df.isnull().mean() * 100"
   ]
  },
  {
   "cell_type": "code",
   "execution_count": null,
   "id": "a7753dc7-98d6-4ace-b535-8b072816a5c7",
   "metadata": {},
   "outputs": [],
   "source": [
    "# DETERMINE PERCENTAGE OF NULL VALUES FOR SOL\n",
    "SOL_df.isnull().mean() * 100"
   ]
  },
  {
   "cell_type": "code",
   "execution_count": null,
   "id": "c074d95f-a25c-4ae5-9b15-5f95870b5823",
   "metadata": {},
   "outputs": [],
   "source": [
    "# CALCULATE DAILY RETURNS FOR ADA\n",
    "ada_daily_return = ADA_df.pct_change()\n",
    "\n",
    "ada_daily_return"
   ]
  },
  {
   "cell_type": "code",
   "execution_count": null,
   "id": "6f3c34f1-4a54-4a56-b253-02c8cd58f787",
   "metadata": {},
   "outputs": [],
   "source": [
    "# CALCULATE DAILY RETURNS FOR SOL\n",
    "sol_daily_return = SOL_df.pct_change()\n",
    "\n",
    "sol_daily_return"
   ]
  },
  {
   "cell_type": "code",
   "execution_count": null,
   "id": "d66753a2-2bde-40a3-ba9c-4f88e75cb4bd",
   "metadata": {},
   "outputs": [],
   "source": [
    "# RENAME 'Close' TO 'ADA'\n",
    "ada_daily_return = ada_daily_return.rename(columns={\n",
    "    \"Close\": \"ADA\",\n",
    "})\n",
    "ada_daily_return"
   ]
  },
  {
   "cell_type": "code",
   "execution_count": null,
   "id": "76939c59-fc0c-4989-b7da-675f7217da46",
   "metadata": {},
   "outputs": [],
   "source": [
    "# RENAME 'Close' TO 'SOL'\n",
    "sol_daily_return = sol_daily_return.rename(columns={\n",
    "    \"Close\": \"SOL\",\n",
    "})\n",
    "sol_daily_return"
   ]
  },
  {
   "cell_type": "code",
   "execution_count": null,
   "id": "2ec49377-e5c7-4aee-80c5-36a66ea56734",
   "metadata": {},
   "outputs": [],
   "source": [
    "# DROP NULLS FOR ADA\n",
    "ada_daily_return = ada_daily_return.dropna().copy()\n",
    "ada_daily_return"
   ]
  },
  {
   "cell_type": "code",
   "execution_count": null,
   "id": "a78d25b7-bf45-4e75-8975-c8c2ddee7a23",
   "metadata": {},
   "outputs": [],
   "source": [
    "# DROP NULLS FOR ADA\n",
    "sol_daily_return = sol_daily_return.dropna().copy()\n",
    "sol_daily_return"
   ]
  },
  {
   "cell_type": "code",
   "execution_count": null,
   "id": "17b7156c-416b-4476-a7e9-6853e0dd5a33",
   "metadata": {},
   "outputs": [],
   "source": [
    "# REMOVE TIME FROM DATE-TIME INDEX FOR ADA\n",
    "ada_daily_return.index = ada_daily_return.index.normalize()\n",
    "ada_daily_return"
   ]
  },
  {
   "cell_type": "code",
   "execution_count": null,
   "id": "84599116-56db-4e8d-a6f7-41d7fbd3211f",
   "metadata": {},
   "outputs": [],
   "source": [
    "# REMOVE TIME FROM DATE-TIME INDEX FOR SOL\n",
    "sol_daily_return.index = sol_daily_return.index.normalize()\n",
    "sol_daily_return"
   ]
  },
  {
   "cell_type": "code",
   "execution_count": null,
   "id": "fd76412a-ab22-4fe0-9634-c7335f0576cf",
   "metadata": {},
   "outputs": [],
   "source": [
    "# CONCATENATE THE DATAFRAMES\n",
    "ada_sol_daily_returns = pd.concat(\n",
    "    [ada_daily_return, sol_daily_return],\n",
    "    axis = \"columns\",\n",
    "    join = \"inner\"\n",
    ")"
   ]
  },
  {
   "cell_type": "code",
   "execution_count": null,
   "id": "9d8d5a69-5678-449b-96ba-a69a43f47f1d",
   "metadata": {},
   "outputs": [],
   "source": [
    "# PREVIEW DATAFRAME\n",
    "ada_sol_daily_returns"
   ]
  },
  {
   "cell_type": "code",
   "execution_count": null,
   "id": "337b681c-625c-4bf2-80b0-db6d2221af2f",
   "metadata": {},
   "outputs": [],
   "source": []
  }
 ],
 "metadata": {
  "kernelspec": {
   "display_name": "Python 3 (ipykernel)",
   "language": "python",
   "name": "python3"
  },
  "language_info": {
   "codemirror_mode": {
    "name": "ipython",
    "version": 3
   },
   "file_extension": ".py",
   "mimetype": "text/x-python",
   "name": "python",
   "nbconvert_exporter": "python",
   "pygments_lexer": "ipython3",
   "version": "3.7.13"
  }
 },
 "nbformat": 4,
 "nbformat_minor": 5
}
