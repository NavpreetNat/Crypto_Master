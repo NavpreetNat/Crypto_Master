{
 "cells": [
  {
   "cell_type": "code",
   "execution_count": 2,
   "id": "ff36af93-995b-4dd4-8c58-f5746b00bcef",
   "metadata": {},
   "outputs": [],
   "source": [
    "# Import libraries and dependencies\n",
    "import os\n",
    "import pandas as pd\n",
    "from pathlib import Path\n",
    "from MCForecastTools import MCSimulation"
   ]
  },
  {
   "cell_type": "code",
   "execution_count": 3,
   "id": "045861c5-3246-43b2-9724-8e4446382adc",
   "metadata": {},
   "outputs": [
    {
     "name": "stdout",
     "output_type": "stream",
     "text": [
      "/Users/heianmac/Desktop/USYD-VIRT-FIN-PT-09-2022-U-LOLC/Crypto_Master/codes\n"
     ]
    }
   ],
   "source": [
    "cwd = Path.cwd()\n",
    "print(cwd)"
   ]
  },
  {
   "cell_type": "code",
   "execution_count": 4,
   "id": "13373379-ebc9-4fe1-85a7-281953678ba0",
   "metadata": {},
   "outputs": [],
   "source": [
    "#Set the path to fetch the csv files \n",
    "ethpath = Path(\"../resources/ETH.csv\")\n",
    "xrppath = Path(\"../resources/xrp.csv\")"
   ]
  },
  {
   "cell_type": "code",
   "execution_count": 24,
   "id": "8e1b07d1-0834-40d4-ae09-6c98c1862e0b",
   "metadata": {},
   "outputs": [],
   "source": [
    "# create a Pandas DataFrame from a csv file\n",
    "eth_data = pd.read_csv(ethpath, index_col = 'Date', parse_dates = True,infer_datetime_format = True)\n",
    "xrp_data = pd.read_csv(xrppath, index_col = 'Date', parse_dates = True,infer_datetime_format = True)"
   ]
  },
  {
   "cell_type": "code",
   "execution_count": 25,
   "id": "3079e48c-1b3e-426a-84cd-774366ea64de",
   "metadata": {
    "tags": []
   },
   "outputs": [],
   "source": [
    "# Rename columns name from Close to respective Cryptos\n",
    "eth_data = eth_data.rename(columns={\"Close\":\"ETH\"})\n",
    "xrp_data = xrp_data.rename(columns={\"Close\":\"XRP\"})"
   ]
  },
  {
   "cell_type": "code",
   "execution_count": 26,
   "id": "1dc97c95-9b1c-4e47-9059-76ea1551c832",
   "metadata": {},
   "outputs": [
    {
     "data": {
      "text/plain": [
       "XRP    0\n",
       "dtype: int64"
      ]
     },
     "execution_count": 26,
     "metadata": {},
     "output_type": "execute_result"
    }
   ],
   "source": [
    "#count nulls\n",
    "eth_data.isnull().sum()\n",
    "xrp_data.isnull().sum()"
   ]
  },
  {
   "cell_type": "code",
   "execution_count": 38,
   "id": "267f8478-2b3c-4b7e-b6df-55e657f19e89",
   "metadata": {},
   "outputs": [
    {
     "data": {
      "text/plain": [
       "(                 ETH\n",
       " Date                \n",
       " 2016-10-14       NaN\n",
       " 2016-10-15  0.002517\n",
       " 2016-10-16  0.000000\n",
       " 2016-10-17  0.000837\n",
       " 2016-10-18  0.048495,\n",
       "                  XRP\n",
       " Date                \n",
       " 2017-10-23       NaN\n",
       " 2017-10-24 -0.055568\n",
       " 2017-10-25  0.015430\n",
       " 2017-10-26  0.030730\n",
       " 2017-10-27 -0.015134)"
      ]
     },
     "execution_count": 38,
     "metadata": {},
     "output_type": "execute_result"
    }
   ],
   "source": [
    "#calculate daily returns\n",
    "eth_daily_return = eth_data.pct_change()\n",
    "xrp_daily_return = xrp_data.pct_change()\n",
    "\n",
    "#Drop time from Date index\n",
    "eth_daily_return.index = eth_daily_return.index.normalize()\n",
    "xrp_daily_return.index = xrp_daily_return.index.normalize()\n",
    "\n",
    "#Show sample crypto data for eth and xrp\n",
    "eth_daily_return.head(), xrp_daily_return.head()"
   ]
  },
  {
   "cell_type": "code",
   "execution_count": 35,
   "id": "e64f6d8d-f7b0-498c-bc74-09ea66aacce9",
   "metadata": {},
   "outputs": [
    {
     "data": {
      "text/html": [
       "<div>\n",
       "<style scoped>\n",
       "    .dataframe tbody tr th:only-of-type {\n",
       "        vertical-align: middle;\n",
       "    }\n",
       "\n",
       "    .dataframe tbody tr th {\n",
       "        vertical-align: top;\n",
       "    }\n",
       "\n",
       "    .dataframe thead th {\n",
       "        text-align: right;\n",
       "    }\n",
       "</style>\n",
       "<table border=\"1\" class=\"dataframe\">\n",
       "  <thead>\n",
       "    <tr style=\"text-align: right;\">\n",
       "      <th></th>\n",
       "      <th>ETH</th>\n",
       "      <th>XRP</th>\n",
       "    </tr>\n",
       "    <tr>\n",
       "      <th>Date</th>\n",
       "      <th></th>\n",
       "      <th></th>\n",
       "    </tr>\n",
       "  </thead>\n",
       "  <tbody>\n",
       "    <tr>\n",
       "      <th>2017-10-24</th>\n",
       "      <td>0.039044</td>\n",
       "      <td>-0.055568</td>\n",
       "    </tr>\n",
       "    <tr>\n",
       "      <th>2017-10-25</th>\n",
       "      <td>-0.000774</td>\n",
       "      <td>0.015430</td>\n",
       "    </tr>\n",
       "    <tr>\n",
       "      <th>2017-10-26</th>\n",
       "      <td>-0.002628</td>\n",
       "      <td>0.030730</td>\n",
       "    </tr>\n",
       "    <tr>\n",
       "      <th>2017-10-27</th>\n",
       "      <td>0.005440</td>\n",
       "      <td>-0.015134</td>\n",
       "    </tr>\n",
       "    <tr>\n",
       "      <th>2017-10-28</th>\n",
       "      <td>-0.008334</td>\n",
       "      <td>-0.004693</td>\n",
       "    </tr>\n",
       "    <tr>\n",
       "      <th>...</th>\n",
       "      <td>...</td>\n",
       "      <td>...</td>\n",
       "    </tr>\n",
       "    <tr>\n",
       "      <th>2022-10-22</th>\n",
       "      <td>0.010630</td>\n",
       "      <td>0.010417</td>\n",
       "    </tr>\n",
       "    <tr>\n",
       "      <th>2022-10-23</th>\n",
       "      <td>0.038184</td>\n",
       "      <td>0.008975</td>\n",
       "    </tr>\n",
       "    <tr>\n",
       "      <th>2022-10-24</th>\n",
       "      <td>-0.014889</td>\n",
       "      <td>-0.033987</td>\n",
       "    </tr>\n",
       "    <tr>\n",
       "      <th>2022-10-25</th>\n",
       "      <td>0.086735</td>\n",
       "      <td>0.017281</td>\n",
       "    </tr>\n",
       "    <tr>\n",
       "      <th>2022-10-26</th>\n",
       "      <td>0.072636</td>\n",
       "      <td>0.018241</td>\n",
       "    </tr>\n",
       "  </tbody>\n",
       "</table>\n",
       "<p>1824 rows × 2 columns</p>\n",
       "</div>"
      ],
      "text/plain": [
       "                 ETH       XRP\n",
       "Date                          \n",
       "2017-10-24  0.039044 -0.055568\n",
       "2017-10-25 -0.000774  0.015430\n",
       "2017-10-26 -0.002628  0.030730\n",
       "2017-10-27  0.005440 -0.015134\n",
       "2017-10-28 -0.008334 -0.004693\n",
       "...              ...       ...\n",
       "2022-10-22  0.010630  0.010417\n",
       "2022-10-23  0.038184  0.008975\n",
       "2022-10-24 -0.014889 -0.033987\n",
       "2022-10-25  0.086735  0.017281\n",
       "2022-10-26  0.072636  0.018241\n",
       "\n",
       "[1824 rows x 2 columns]"
      ]
     },
     "execution_count": 35,
     "metadata": {},
     "output_type": "execute_result"
    }
   ],
   "source": [
    "# Combine ETH and XRP daily returns\n",
    "combined_eth_xrp = pd.concat([eth_daily_return,xrp_daily_return], axis =\"columns\", join=\"inner\")\n",
    "combined_eth_xrp.dropna()"
   ]
  },
  {
   "cell_type": "code",
   "execution_count": null,
   "id": "58086409-5c5a-4624-9445-663b5ea8b4a1",
   "metadata": {},
   "outputs": [],
   "source": []
  }
 ],
 "metadata": {
  "kernelspec": {
   "display_name": "Python 3 (ipykernel)",
   "language": "python",
   "name": "python3"
  },
  "language_info": {
   "codemirror_mode": {
    "name": "ipython",
    "version": 3
   },
   "file_extension": ".py",
   "mimetype": "text/x-python",
   "name": "python",
   "nbconvert_exporter": "python",
   "pygments_lexer": "ipython3",
   "version": "3.9.12"
  }
 },
 "nbformat": 4,
 "nbformat_minor": 5
}
