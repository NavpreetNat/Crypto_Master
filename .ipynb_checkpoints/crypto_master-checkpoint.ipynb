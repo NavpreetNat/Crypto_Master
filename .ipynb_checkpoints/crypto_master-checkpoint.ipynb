{
 "cells": [
  {
   "cell_type": "code",
   "execution_count": null,
   "id": "8bcd7527-4bf2-4526-8e7b-e538e7bc740e",
   "metadata": {},
   "outputs": [],
   "source": [
    "# Problem Statement:\n",
    "# To predict crypocurrency prices into the future for a period of 1 year, 5 years, 10 years using Monte Carlo simulation from historical data\n",
    "# spanning back up to 10 years.\n",
    "\n",
    "# Priorities:\n",
    "# - Decide API\n",
    "# - Decide cryptos\n",
    "# - Decide Time schedule\n",
    "# - Decide Tasks\n",
    "\n",
    "\n",
    "\n",
    "# To consider\n",
    "# - Market size of the particular token\n",
    "# - Volatility depending on global events (e.g. between 2020-2021 vs 2012-2013). Identify global events and how they have influenced the market.\n",
    "\n",
    "\n",
    "\n",
    "# Method:\n",
    "# Obtain the data from API\n",
    "# Clean the data\n",
    "# Set up the simulation\n",
    "# Plot and graph the data\n",
    "# Analyse the standard deviation, volatility/risk, sharpe ratio (risk & return)\n",
    "\n",
    "# Presentation\n",
    "# - Powerpoint\n",
    "\n",
    "# README.md\n",
    "\n",
    "# Jupyter Notebook\n",
    "\n",
    "\n",
    "\n",
    "# API: Options for potential API's to use - https://mixedanalytics.com/knowledge-base/top-free-crypto-apis/"
   ]
  }
 ],
 "metadata": {
  "kernelspec": {
   "display_name": "Python 3 (ipykernel)",
   "language": "python",
   "name": "python3"
  },
  "language_info": {
   "codemirror_mode": {
    "name": "ipython",
    "version": 3
   },
   "file_extension": ".py",
   "mimetype": "text/x-python",
   "name": "python",
   "nbconvert_exporter": "python",
   "pygments_lexer": "ipython3",
   "version": "3.9.12"
  }
 },
 "nbformat": 4,
 "nbformat_minor": 5
}
